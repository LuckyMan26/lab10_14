{
 "cells": [
  {
   "cell_type": "code",
   "execution_count": 5,
   "id": "0dd880b9",
   "metadata": {},
   "outputs": [],
   "source": [
    "import torch\n",
    "import torch.nn as nn\n",
    "\n",
    "class LSTMClassifier(nn.Module):\n",
    "    def __init__(self, vocab_size, embedding_dim, hidden_dim, output_dim, num_layers=1, dropout=0.1):\n",
    "        super(LSTMClassifier, self).__init__()\n",
    "        \n",
    "        self.lstm = nn.LSTM(embedding_dim,\n",
    "                            hidden_dim,\n",
    "                            num_layers=num_layers,\n",
    "                            batch_first=True,\n",
    "                            dropout=dropout if num_layers > 1 else 0)\n",
    "        self.hidden_size = hidden_dim\n",
    "        self.num_layers = num_layers\n",
    "        self.layer_norm = nn.LayerNorm(hidden_dim)\n",
    "        self.dropout = nn.Dropout(dropout)\n",
    "\n",
    "        # Improved classifier head\n",
    "        self.classifier = nn.Sequential(\n",
    "            nn.Linear(hidden_dim, hidden_dim // 2),\n",
    "            nn.ReLU(),\n",
    "            nn.Dropout(dropout),\n",
    "            nn.Linear(hidden_dim // 2, output_dim)\n",
    "        )\n",
    "\n",
    "        self.output = nn.Softmax(dim=-1)\n",
    "\n",
    "    def forward(self, x):\n",
    "        #h0 = torch.zeros(x.size(0), self.num_layers, self.hidden_size).to(x.device)\n",
    "        #c0 = torch.zeros(x.size(0), self.num_layers,  self.hidden_size).to(x.device)\n",
    "        #print(\"h0:\", h0.shape)\n",
    "        lstm_out, (h_n, c_n) = self.lstm(x)\n",
    "        #print(\"lstm_out:\", lstm_out.shape)\n",
    "        final_hidden_state = lstm_out.reshape(lstm_out.size(0), lstm_out.size(1))\n",
    "        print(\"final_hidden_state:\", final_hidden_state.shape)\n",
    "        print(\"layer_norm:\", self.hidden_size)\n",
    "        #print(\"final_hidden_state:\", final_hidden_state.shape)\n",
    "        pooled = self.layer_norm(final_hidden_state)\n",
    "        pooled = self.dropout(pooled)\n",
    "\n",
    "        # Classifier head\n",
    "        out = self.classifier(pooled)\n",
    "        #print(\"out:\", pooled.shape)\n",
    "        return self.output(out)"
   ]
  },
  {
   "cell_type": "code",
   "execution_count": 21,
   "id": "b607babb",
   "metadata": {},
   "outputs": [
    {
     "name": "stderr",
     "output_type": "stream",
     "text": [
      "/tmp/ipykernel_15495/892962628.py:9: FutureWarning: You are using `torch.load` with `weights_only=False` (the current default value), which uses the default pickle module implicitly. It is possible to construct malicious pickle data which will execute arbitrary code during unpickling (See https://github.com/pytorch/pytorch/blob/main/SECURITY.md#untrusted-models for more details). In a future release, the default value for `weights_only` will be flipped to `True`. This limits the functions that could be executed during unpickling. Arbitrary objects will no longer be allowed to be loaded via this mode unless they are explicitly allowlisted by the user via `torch.serialization.add_safe_globals`. We recommend you start setting `weights_only=True` for any use case where you don't have full control of the loaded file. Please open an issue on GitHub for any issues related to this experimental feature.\n",
      "  model.load_state_dict(torch.load(\"lstm.pth\", map_location='cuda'))\n"
     ]
    }
   ],
   "source": [
    "import torch\n",
    "vocab_size = 10000\n",
    "embedding_dim = 384\n",
    "hidden_dim = 64\n",
    "output_dim = 3  # For binary classification\n",
    "sequence_length = 100\n",
    "\n",
    "model = LSTMClassifier(vocab_size=vocab_size, embedding_dim=embedding_dim,hidden_dim = 32, output_dim = output_dim, num_layers=1, dropout=0.3)\n",
    "model.load_state_dict(torch.load(\"lstm.pth\", map_location='cuda'))\n",
    "model.eval()\n",
    "\n",
    "model = model.to('cuda')\n",
    "# Load the embedding model\n",
    "from sentence_transformers import SentenceTransformer\n",
    "\n",
    "embedding_model = SentenceTransformer(\"all-MiniLM-L6-v2\").to('cuda')\n",
    "\n",
    "# Label mapping (example)\n",
    "label_map = {0: \"negative\", 1: \"neutral\", 2: \"positive\"}\n",
    "\n",
    "def predict_sentiment(text):\n",
    "    inputs = embedding_model.encode(text, convert_to_tensor=True).unsqueeze(0).to('cuda')\n",
    "    with torch.no_grad():\n",
    "        print(\"inputs:\", inputs.shape)\n",
    "        outputs = model(inputs)\n",
    "        prediction = torch.argmax(outputs, dim=1).item()\n",
    "    return label_map[prediction]\n"
   ]
  },
  {
   "cell_type": "code",
   "execution_count": null,
   "id": "9e2f3af8",
   "metadata": {},
   "outputs": [
    {
     "name": "stdout",
     "output_type": "stream",
     "text": [
      "* Running on local URL:  http://127.0.0.1:7869\n",
      "\n",
      "To create a public link, set `share=True` in `launch()`.\n"
     ]
    },
    {
     "data": {
      "text/html": [
       "<div><iframe src=\"http://127.0.0.1:7869/\" width=\"100%\" height=\"500\" allow=\"autoplay; camera; microphone; clipboard-read; clipboard-write;\" frameborder=\"0\" allowfullscreen></iframe></div>"
      ],
      "text/plain": [
       "<IPython.core.display.HTML object>"
      ]
     },
     "metadata": {},
     "output_type": "display_data"
    },
    {
     "data": {
      "text/plain": []
     },
     "execution_count": 22,
     "metadata": {},
     "output_type": "execute_result"
    },
    {
     "name": "stdout",
     "output_type": "stream",
     "text": [
      "inputs: torch.Size([1, 384])\n",
      "final_hidden_state: torch.Size([1, 32])\n",
      "layer_norm: 32\n"
     ]
    }
   ],
   "source": [
    "import gradio as gr\n",
    "\n",
    "iface = gr.Interface(\n",
    "    fn=predict_sentiment,\n",
    "    inputs=gr.Textbox(lines=3, placeholder=\"Enter text here...\"),\n",
    "    outputs=gr.Label(num_top_classes=3),\n",
    "    title=\"Sentiment Classifier\",\n",
    "    description=\"Enter a sentence to predict its sentiment.\"\n",
    ")\n",
    "\n",
    "iface.launch()"
   ]
  }
 ],
 "metadata": {
  "kernelspec": {
   "display_name": "Python 3",
   "language": "python",
   "name": "python3"
  },
  "language_info": {
   "codemirror_mode": {
    "name": "ipython",
    "version": 3
   },
   "file_extension": ".py",
   "mimetype": "text/x-python",
   "name": "python",
   "nbconvert_exporter": "python",
   "pygments_lexer": "ipython3",
   "version": "3.10.12"
  }
 },
 "nbformat": 4,
 "nbformat_minor": 5
}
